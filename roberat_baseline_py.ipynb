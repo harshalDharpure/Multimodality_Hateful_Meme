{
  "nbformat": 4,
  "nbformat_minor": 0,
  "metadata": {
    "colab": {
      "private_outputs": true,
      "provenance": [],
      "authorship_tag": "ABX9TyNVotkPcw1Jr6DRtl7LIRGq",
      "include_colab_link": true
    },
    "kernelspec": {
      "name": "python3",
      "display_name": "Python 3"
    },
    "language_info": {
      "name": "python"
    }
  },
  "cells": [
    {
      "cell_type": "markdown",
      "metadata": {
        "id": "view-in-github",
        "colab_type": "text"
      },
      "source": [
        "<a href=\"https://colab.research.google.com/github/harshalDharpure/Multimodality_Hateful_Meme/blob/main/roberat_baseline_py.ipynb\" target=\"_parent\"><img src=\"https://colab.research.google.com/assets/colab-badge.svg\" alt=\"Open In Colab\"/></a>"
      ]
    },
    {
      "cell_type": "code",
      "execution_count": null,
      "metadata": {
        "id": "Mf7aNLasHaKs"
      },
      "outputs": [],
      "source": [
        "#Modified for Hindi datasets Prompthate code"
      ]
    },
    {
      "cell_type": "code",
      "source": [
        "import torch\n",
        "import torch.nn as nn\n",
        "from transformers import RobertaForSequenceClassification\n",
        "\n",
        "class RobertaBaseModel(nn.Module):\n",
        "    def __init__(self, roberta, classifier, multimodal_layer=None):\n",
        "        super(RobertaBaseModel, self).__init__()\n",
        "        self.text_encoder = roberta\n",
        "        self.classifier = classifier\n",
        "        self.multimodal_layer = multimodal_layer\n",
        "\n",
        "    def forward(self, tokens, attention_mask, feat=None):\n",
        "        output = self.text_encoder(tokens, attention_mask=attention_mask).logits\n",
        "        if feat is not None and self.multimodal_layer is not None:\n",
        "            multimodal_output = self.multimodal_layer(output, feat)\n",
        "            logits = self.classifier(multimodal_output)\n",
        "        else:\n",
        "            logits = self.classifier(output)\n",
        "        return logits\n",
        "\n",
        "def build_baseline(opt):\n",
        "    num_labels = opt.NUM_LABELS  # The number of output classes\n",
        "    text_encoder = RobertaForSequenceClassification.from_pretrained(\n",
        "        opt.MODEL_NAME,\n",
        "        num_labels=num_labels,\n",
        "        output_attentions=False,\n",
        "        output_hidden_states=False\n",
        "    )\n",
        "\n",
        "    if opt.UNIMODAL:\n",
        "        # Multimodal layer should be added here, if necessary\n",
        "        multimodal_layer = None\n",
        "    else:\n",
        "        multimodal_layer = None\n",
        "\n",
        "    classifier = nn.Sequential(\n",
        "        nn.Linear(opt.ROBERTA_DIM, opt.MID_DIM),\n",
        "        nn.ReLU(),\n",
        "        nn.Dropout(opt.FC_DROPOUT),\n",
        "        nn.Linear(opt.MID_DIM, num_labels)\n",
        "    )\n",
        "\n",
        "    return RobertaBaseModel(text_encoder, classifier, multimodal_layer)\n"
      ],
      "metadata": {
        "id": "fNKb9bx3JLGI"
      },
      "execution_count": null,
      "outputs": []
    }
  ]
}