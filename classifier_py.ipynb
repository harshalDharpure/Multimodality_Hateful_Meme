{
  "nbformat": 4,
  "nbformat_minor": 0,
  "metadata": {
    "colab": {
      "private_outputs": true,
      "provenance": [],
      "authorship_tag": "ABX9TyOw8o9Zno/V6P816Opor4hT",
      "include_colab_link": true
    },
    "kernelspec": {
      "name": "python3",
      "display_name": "Python 3"
    },
    "language_info": {
      "name": "python"
    }
  },
  "cells": [
    {
      "cell_type": "markdown",
      "metadata": {
        "id": "view-in-github",
        "colab_type": "text"
      },
      "source": [
        "<a href=\"https://colab.research.google.com/github/harshalDharpure/Multimodality_Hateful_Meme/blob/main/classifier_py.ipynb\" target=\"_parent\"><img src=\"https://colab.research.google.com/assets/colab-badge.svg\" alt=\"Open In Colab\"/></a>"
      ]
    },
    {
      "cell_type": "code",
      "execution_count": null,
      "metadata": {
        "id": "Mf7aNLasHaKs"
      },
      "outputs": [],
      "source": [
        "#Modified for Hindi datasets Prompthate code"
      ]
    },
    {
      "cell_type": "code",
      "source": [
        "import torch.nn as nn\n",
        "import torch.nn.init as init\n",
        "from torch.nn.utils.weight_norm import weight_norm\n",
        "\n",
        "class SimpleClassifier(nn.Module):\n",
        "    def __init__(self, in_dim, hid_dim, out_dim, dropout):\n",
        "        super(SimpleClassifier, self).__init__()\n",
        "        layer = [\n",
        "            weight_norm(nn.Linear(in_dim, hid_dim), dim=None),\n",
        "            nn.ReLU(),\n",
        "            nn.Dropout(dropout, inplace=True),\n",
        "            weight_norm(nn.Linear(hid_dim, out_dim), dim=None)\n",
        "        ]\n",
        "        self.main = nn.Sequential(*layer)\n",
        "\n",
        "    def forward(self, x):\n",
        "        logits = self.main(x)\n",
        "        return logits\n",
        "\n",
        "class SingleClassifier(nn.Module):\n",
        "    def __init__(self, in_dim, out_dim, dropout):\n",
        "        super(SingleClassifier, self).__init__()\n",
        "        layer = [\n",
        "            weight_norm(nn.Linear(in_dim, out_dim), dim=None),\n",
        "            nn.Dropout(dropout, inplace=True)\n",
        "        ]\n",
        "        self.main = nn.Sequential(*layer)\n",
        "\n",
        "    def forward(self, x):\n",
        "        logits = self.main(x)\n",
        "        return logits\n"
      ],
      "metadata": {
        "id": "fNKb9bx3JLGI"
      },
      "execution_count": null,
      "outputs": []
    }
  ]
}