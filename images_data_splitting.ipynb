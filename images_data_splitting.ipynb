{
  "nbformat": 4,
  "nbformat_minor": 0,
  "metadata": {
    "colab": {
      "provenance": []
    },
    "kernelspec": {
      "name": "python3",
      "display_name": "Python 3"
    },
    "language_info": {
      "name": "python"
    }
  },
  "cells": [
    {
      "cell_type": "code",
      "execution_count": 1,
      "metadata": {
        "colab": {
          "base_uri": "https://localhost:8080/"
        },
        "id": "9056AojthEuD",
        "outputId": "9db927c6-16e5-45ce-9885-392bb4c73cdc"
      },
      "outputs": [
        {
          "output_type": "stream",
          "name": "stdout",
          "text": [
            "15 images moved to training directory.\n",
            "4 images moved to testing directory.\n"
          ]
        }
      ],
      "source": [
        "import os\n",
        "import shutil\n",
        "from random import sample\n",
        "\n",
        "# Set the paths to your source image directory and destination directories\n",
        "source_directory = '/content/drive/MyDrive/Hindi Hateful Meme Dataste/new_img'\n",
        "train_directory = '/content/drive/MyDrive/Hindi Hateful Meme Dataste/train'\n",
        "test_directory = '/content/drive/MyDrive/Hindi Hateful Meme Dataste/test'\n",
        "\n",
        "# Create the train and test directories if they don't exist\n",
        "os.makedirs(train_directory, exist_ok=True)\n",
        "os.makedirs(test_directory, exist_ok=True)\n",
        "\n",
        "# List all files in the source directory\n",
        "image_files = os.listdir(source_directory)\n",
        "\n",
        "# Define the proportion of images to use for training\n",
        "train_proportion = 0.8  # 80% for training, 20% for testing\n",
        "\n",
        "# Calculate the number of images for training\n",
        "num_train = int(len(image_files) * train_proportion)\n",
        "\n",
        "# Randomly sample the images for training\n",
        "train_images = sample(image_files, num_train)\n",
        "\n",
        "# Move the images to the appropriate directories\n",
        "for image_file in image_files:\n",
        "    source_path = os.path.join(source_directory, image_file)\n",
        "    if image_file in train_images:\n",
        "        destination_path = os.path.join(train_directory, image_file)\n",
        "    else:\n",
        "        destination_path = os.path.join(test_directory, image_file)\n",
        "    shutil.move(source_path, destination_path)\n",
        "\n",
        "print(f\"{num_train} images moved to training directory.\")\n",
        "print(f\"{len(image_files) - num_train} images moved to testing directory.\")\n"
      ]
    }
  ]
}