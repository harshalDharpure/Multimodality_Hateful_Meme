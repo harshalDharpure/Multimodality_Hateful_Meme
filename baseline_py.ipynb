{
  "nbformat": 4,
  "nbformat_minor": 0,
  "metadata": {
    "colab": {
      "private_outputs": true,
      "provenance": [],
      "authorship_tag": "ABX9TyOHqUknH32IjfzchlaoG0rs",
      "include_colab_link": true
    },
    "kernelspec": {
      "name": "python3",
      "display_name": "Python 3"
    },
    "language_info": {
      "name": "python"
    }
  },
  "cells": [
    {
      "cell_type": "markdown",
      "metadata": {
        "id": "view-in-github",
        "colab_type": "text"
      },
      "source": [
        "<a href=\"https://colab.research.google.com/github/harshalDharpure/Multimodality_Hateful_Meme/blob/main/baseline_py.ipynb\" target=\"_parent\"><img src=\"https://colab.research.google.com/assets/colab-badge.svg\" alt=\"Open In Colab\"/></a>"
      ]
    },
    {
      "cell_type": "code",
      "execution_count": null,
      "metadata": {
        "id": "Mf7aNLasHaKs"
      },
      "outputs": [],
      "source": [
        "#Modified for Hindi datasets Prompthate code"
      ]
    },
    {
      "cell_type": "code",
      "source": [
        "import torch\n",
        "import torch.nn as nn\n",
        "from transformers import RobertaForMaskedLM\n",
        "\n",
        "class RobertaPromptModel(nn.Module):\n",
        "    def __init__(self, label_list):\n",
        "        super(RobertaPromptModel, self).__init__()\n",
        "        self.label_word_list = label_list\n",
        "        self.roberta = RobertaForMaskedLM.from_pretrained('roberta-large')\n",
        "\n",
        "    def forward(self, tokens, attention_mask, mask_pos, feat=None):\n",
        "        batch_size = tokens.size(0)\n",
        "        # The position of the word for prediction\n",
        "        if mask_pos is not None:\n",
        "            mask_pos = mask_pos.squeeze()\n",
        "\n",
        "        out = self.roberta(input_ids=tokens, attention_mask=attention_mask)\n",
        "        prediction_mask_scores = out.logits[torch.arange(batch_size), mask_pos]\n",
        "\n",
        "        logits = []\n",
        "        for label_id in range(len(self.label_word_list)):\n",
        "            logits.append(prediction_mask_scores[:, self.label_word_list[label_id]].unsqueeze(-1))\n",
        "        logits = torch.cat(logits, -1)\n",
        "        return logits\n",
        "\n",
        "\n",
        "def build_baseline(opt, label_list):\n",
        "    return RobertaPromptModel(label_list)\n"
      ],
      "metadata": {
        "id": "fNKb9bx3JLGI"
      },
      "execution_count": null,
      "outputs": []
    }
  ]
}