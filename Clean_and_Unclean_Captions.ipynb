{
  "nbformat": 4,
  "nbformat_minor": 0,
  "metadata": {
    "colab": {
      "private_outputs": true,
      "provenance": []
    },
    "kernelspec": {
      "name": "python3",
      "display_name": "Python 3"
    },
    "language_info": {
      "name": "python"
    }
  },
  "cells": [
    {
      "cell_type": "code",
      "source": [],
      "metadata": {
        "id": "KNF--zr1rfqK"
      },
      "execution_count": null,
      "outputs": []
    },
    {
      "cell_type": "code",
      "execution_count": null,
      "metadata": {
        "id": "2oXFheCOqWOq"
      },
      "outputs": [],
      "source": [
        "import pickle\n",
        "\n",
        "with open('/content/clean_captions.pkl','rb') as file:\n",
        "  loaded_data=pickle.load(file)\n"
      ]
    },
    {
      "cell_type": "code",
      "source": [
        "print(loaded_data)"
      ],
      "metadata": {
        "id": "AXnF96sgrhdc"
      },
      "execution_count": null,
      "outputs": []
    },
    {
      "cell_type": "markdown",
      "source": [],
      "metadata": {
        "id": "z900jUfwVQkW"
      }
    },
    {
      "cell_type": "code",
      "source": [
        "for key,value in loaded_data.items():\n",
        "  print(f\"key : {key}\")\n",
        "  print(f\"Value : {value}\\n\")"
      ],
      "metadata": {
        "id": "8Z4qBVvXrq7O"
      },
      "execution_count": null,
      "outputs": []
    },
    {
      "cell_type": "code",
      "source": [
        "import pickle\n",
        "\n",
        "with open('/content/unclean_captions.pkl','rb') as file:\n",
        "  loaded_data=pickle.load(file)\n",
        "\n",
        "for key,value in loaded_data.items():\n",
        "  print(f\"Key : {key}\")\n",
        "  print(f\"Value : {value}\\n\")"
      ],
      "metadata": {
        "id": "CqfuhyJSsxip"
      },
      "execution_count": null,
      "outputs": []
    },
    {
      "cell_type": "code",
      "source": [],
      "metadata": {
        "id": "s36LVW9Zro9q"
      },
      "execution_count": null,
      "outputs": []
    },
    {
      "cell_type": "code",
      "source": [],
      "metadata": {
        "id": "nyY51gN3rTx-"
      },
      "execution_count": null,
      "outputs": []
    }
  ]
}