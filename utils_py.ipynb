{
  "nbformat": 4,
  "nbformat_minor": 0,
  "metadata": {
    "colab": {
      "private_outputs": true,
      "provenance": [],
      "authorship_tag": "ABX9TyPrQpiqc/ZITXGrQRhgty7S",
      "include_colab_link": true
    },
    "kernelspec": {
      "name": "python3",
      "display_name": "Python 3"
    },
    "language_info": {
      "name": "python"
    }
  },
  "cells": [
    {
      "cell_type": "markdown",
      "metadata": {
        "id": "view-in-github",
        "colab_type": "text"
      },
      "source": [
        "<a href=\"https://colab.research.google.com/github/harshalDharpure/Multimodality_Hateful_Meme/blob/main/utils_py.ipynb\" target=\"_parent\"><img src=\"https://colab.research.google.com/assets/colab-badge.svg\" alt=\"Open In Colab\"/></a>"
      ]
    },
    {
      "cell_type": "code",
      "execution_count": null,
      "metadata": {
        "id": "Mf7aNLasHaKs"
      },
      "outputs": [],
      "source": [
        "#Modified for Hindi datasets Prompthate code"
      ]
    },
    {
      "cell_type": "code",
      "source": [
        "import os\n",
        "import errno\n",
        "import torch.nn as nn\n",
        "import torch\n",
        "import numpy as np\n",
        "\n",
        "class KLDivergence(nn.Module):\n",
        "    def __init__(self):\n",
        "        super(KLDivergence, self).__init()\n",
        "\n",
        "    def forward(self, prob, logits):\n",
        "        bz, obj = prob.shape\n",
        "        length = bz\n",
        "        pred_prob = logits\n",
        "        loss = -prob * torch.log(pred_prob)\n",
        "        loss = torch.sum(loss, -1)\n",
        "        loss = torch.sum(loss) / length\n",
        "        return loss\n",
        "\n",
        "def assert_exists(path):\n",
        "    assert os.path.exists(path), 'Does not exist: {}'.format(path)\n",
        "\n",
        "def equal_info(a, b):\n",
        "    assert len(a) == len(b), 'File info not equal!'\n",
        "\n",
        "def same_question(a, b):\n",
        "    assert a == b, 'Not the same question!'\n",
        "\n",
        "class Logger(object):\n",
        "    def __init__(self, output_dir):\n",
        "        dirname = os.path.dirname(output_dir)\n",
        "        if not os.path.exists(dirname):\n",
        "            os.mkdir(dirname)\n",
        "        self.log_file = open(output_dir, 'w')\n",
        "        self.infos = {}\n",
        "\n",
        "    def append(self, key, val):\n",
        "        vals = self.infos.setdefault(key, [])\n",
        "        vals.append(val)\n",
        "\n",
        "    def log(self, extra_msg=''):\n",
        "        msgs = [extra_msg]\n",
        "        for key, vals in self.infos.items():\n",
        "            msgs.append(f'{key} {np.mean(vals):.6f}')\n",
        "        msg = '\\n'.join(msgs)\n",
        "        self.log_file.write(msg + '\\n')\n",
        "        self.log_file.flush()\n",
        "        self.infos = {}\n",
        "        return msg\n",
        "\n",
        "    def write(self, msg):\n",
        "        self.log_file.write(msg + '\\n')\n",
        "        self.log_file.flush()\n",
        "        print(msg)\n"
      ],
      "metadata": {
        "id": "fNKb9bx3JLGI"
      },
      "execution_count": null,
      "outputs": []
    }
  ]
}