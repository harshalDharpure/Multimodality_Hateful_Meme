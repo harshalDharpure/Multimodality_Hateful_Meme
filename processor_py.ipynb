{
  "nbformat": 4,
  "nbformat_minor": 0,
  "metadata": {
    "colab": {
      "private_outputs": true,
      "provenance": [],
      "authorship_tag": "ABX9TyNTnbprwMAFQMC8mgSu/puh",
      "include_colab_link": true
    },
    "kernelspec": {
      "name": "python3",
      "display_name": "Python 3"
    },
    "language_info": {
      "name": "python"
    }
  },
  "cells": [
    {
      "cell_type": "markdown",
      "metadata": {
        "id": "view-in-github",
        "colab_type": "text"
      },
      "source": [
        "<a href=\"https://colab.research.google.com/github/harshalDharpure/Multimodality_Hateful_Meme/blob/main/processor_py.ipynb\" target=\"_parent\"><img src=\"https://colab.research.google.com/assets/colab-badge.svg\" alt=\"Open In Colab\"/></a>"
      ]
    },
    {
      "cell_type": "code",
      "execution_count": null,
      "metadata": {
        "id": "Mf7aNLasHaKs"
      },
      "outputs": [],
      "source": [
        "#Modified for Hindi datasets Prompthate code"
      ]
    },
    {
      "cell_type": "code",
      "source": [
        "from transformers import DataProcessor, InputExample\n",
        "\n",
        "class HindiTextProcessor(DataProcessor):\n",
        "    def get_train_examples(self, data_dir):\n",
        "        # Read and process your Hindi training data file\n",
        "        examples = []  # Store InputExample objects\n",
        "        with open(os.path.join(data_dir, \"train.tsv\"), \"r\", encoding=\"utf-8\") as file:\n",
        "            lines = file.readlines()\n",
        "            for i, line in enumerate(lines[1:]):  # Skip the header line\n",
        "                parts = line.strip().split(\"\\t\")\n",
        "                if len(parts) != 4:  # Check if your dataset structure matches the code\n",
        "                    continue\n",
        "                name, text, caption, label = parts\n",
        "                examples.append(InputExample(guid=i, text_a=text, text_b=caption, label=label))\n",
        "        return examples\n",
        "\n",
        "    def get_dev_examples(self, data_dir):\n",
        "        # Read and process your Hindi validation data file\n",
        "        examples = []  # Store InputExample objects\n",
        "        with open(os.path.join(data_dir, \"dev.tsv\"), \"r\", encoding=\"utf-8\") as file:\n",
        "            lines = file.readlines()\n",
        "            for i, line in enumerate(lines[1:]):  # Skip the header line\n",
        "                parts = line.strip().split(\"\\t\")\n",
        "                if len(parts) != 4:  # Check if your dataset structure matches the code\n",
        "                    continue\n",
        "                name, text, caption, label = parts\n",
        "                examples.append(InputExample(guid=i, text_a=text, text_b=caption, label=label))\n",
        "        return examples\n",
        "\n",
        "    def get_test_examples(self, data_dir):\n",
        "        # Read and process your Hindi test data file\n",
        "        examples = []  # Store InputExample objects\n",
        "        with open(os.path.join(data_dir, \"test.tsv\"), \"r\", encoding=\"utf-8\") as file:\n",
        "            lines = file.readlines()\n",
        "            for i, line in enumerate(lines[1:]):  # Skip the header line\n",
        "                parts = line.strip().split(\"\\t\")\n",
        "                if len(parts) != 4:  # Check if your dataset structure matches the code\n",
        "                    continue\n",
        "                name, text, caption, label = parts\n",
        "                examples.append(InputExample(guid=i, text_a=text, text_b=caption, label=label))\n",
        "        return examples\n",
        "\n",
        "    def get_labels(self):\n",
        "        # Return a list of class labels specific to your Hindi dataset\n",
        "        return [\"0\", \"1\"]\n"
      ],
      "metadata": {
        "id": "fNKb9bx3JLGI"
      },
      "execution_count": null,
      "outputs": []
    }
  ]
}